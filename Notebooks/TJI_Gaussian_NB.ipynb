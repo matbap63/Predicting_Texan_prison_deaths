{
  "cells": [
    {
      "cell_type": "markdown",
      "source": [
        "# Description"
      ],
      "metadata": {
        "id": "dRG8D7_Zit9R"
      }
    },
    {
      "cell_type": "markdown",
      "source": [
        "In this code, we perform Gaussian Naive Bayes with forward selection. Like the logistic regression, we formerly used SMOTE."
      ],
      "metadata": {
        "id": "J22zV0k5ivqN"
      }
    },
    {
      "cell_type": "markdown",
      "metadata": {
        "id": "0tAp4w2uS9_D"
      },
      "source": [
        "# Load the data"
      ]
    },
    {
      "cell_type": "code",
      "execution_count": null,
      "metadata": {
        "id": "v2qMdwvKSlp9"
      },
      "outputs": [],
      "source": [
        "import pandas as pd\n",
        "import seaborn as sns\n",
        "import matplotlib.pyplot as plt\n",
        "import numpy as np\n",
        "import math"
      ]
    },
    {
      "cell_type": "code",
      "execution_count": null,
      "metadata": {
        "id": "eeL1dp08SWer"
      },
      "outputs": [],
      "source": [
        "df = pd.read_csv('./preprocessed_TJI_deaths.csv')"
      ]
    },
    {
      "cell_type": "markdown",
      "source": [
        "# Split into races"
      ],
      "metadata": {
        "id": "3uhSZt9Ji6TZ"
      }
    },
    {
      "cell_type": "code",
      "source": [
        "print('Before dropping race OTHER: ', df.shape[0])\n",
        "df = df[df['race']!='OTHER']\n",
        "print('After dropping race OTHER: ', df.shape[0])\n",
        "df_white = df[df['race']=='WHITE']\n",
        "df_black = df[df['race']=='BLACK']\n",
        "df_hispanic = df[df['race']=='HISPANIC']"
      ],
      "metadata": {
        "colab": {
          "base_uri": "https://localhost:8080/"
        },
        "id": "VBz117sKi7yM",
        "outputId": "a58ec30c-3fcf-4687-8733-4a01c6c55f0a"
      },
      "execution_count": null,
      "outputs": [
        {
          "output_type": "stream",
          "name": "stdout",
          "text": [
            "Before dropping race OTHER:  10713\n",
            "After dropping race OTHER:  10620\n"
          ]
        }
      ]
    },
    {
      "cell_type": "code",
      "source": [
        "print('White prisoners: ', df_white.shape)\n",
        "print('Black prisoners: ', df_black.shape)\n",
        "print('Hispanic prisoners: ', df_hispanic.shape)"
      ],
      "metadata": {
        "colab": {
          "base_uri": "https://localhost:8080/"
        },
        "id": "7sxLlBmOi-Y1",
        "outputId": "e86285a9-6588-4dd7-81bb-64b381c53a02"
      },
      "execution_count": null,
      "outputs": [
        {
          "output_type": "stream",
          "name": "stdout",
          "text": [
            "White prisoners:  (4609, 10)\n",
            "Black prisoners:  (3120, 10)\n",
            "Hispanic prisoners:  (2888, 10)\n"
          ]
        }
      ]
    },
    {
      "cell_type": "markdown",
      "metadata": {
        "id": "67p5eTFG2IYO"
      },
      "source": [
        "# White Naive Bayes (w/ forward selection)"
      ]
    },
    {
      "cell_type": "markdown",
      "source": [
        "With SMOTE, this takes around 20 minutes to run. Without SMOTE, this takes around 11 minutes."
      ],
      "metadata": {
        "id": "1rYiQtS_msG8"
      }
    },
    {
      "cell_type": "code",
      "execution_count": null,
      "metadata": {
        "id": "sXo-se2T2Uee"
      },
      "outputs": [],
      "source": [
        "from mlxtend.feature_selection import SequentialFeatureSelector as SFS\n",
        "from mlxtend.plotting import plot_sequential_feature_selection as plot_sfs\n",
        "from sklearn.compose import ColumnTransformer\n",
        "from sklearn.preprocessing import OneHotEncoder, StandardScaler, OrdinalEncoder\n",
        "from sklearn.metrics import accuracy_score\n",
        "from sklearn.model_selection import train_test_split\n",
        "from sklearn.naive_bayes import GaussianNB\n",
        "from sklearn.metrics import confusion_matrix, classification_report\n",
        "from imblearn.pipeline import Pipeline\n",
        "from sklearn.model_selection import GridSearchCV\n",
        "from sklearn.model_selection import StratifiedKFold\n",
        "from sklearn.model_selection import cross_val_score"
      ]
    },
    {
      "cell_type": "code",
      "execution_count": null,
      "metadata": {
        "id": "kTUAiLEP2VTl"
      },
      "outputs": [],
      "source": [
        "df_white = df[df['race']=='WHITE']\n",
        "\n",
        "df_white_Y = df_white['Natural']\n",
        "df_white_X = df_white.drop(['Natural', 'manner_of_death', 'race'], axis=1)\n",
        "\n",
        "X_train, X_test, y_train, y_test = train_test_split(df_white_X, df_white_Y, test_size=0.2)"
      ]
    },
    {
      "cell_type": "code",
      "execution_count": null,
      "metadata": {
        "colab": {
          "base_uri": "https://localhost:8080/"
        },
        "id": "TU0xzhNh2b5b",
        "outputId": "ef9a654c-aacd-4731-a800-296d2c842722"
      },
      "outputs": [
        {
          "output_type": "stream",
          "name": "stdout",
          "text": [
            "CV-results:\n",
            " [0.88346883 0.88888889 0.91327913 0.90243902 0.88075881 0.91056911\n",
            " 0.90243902 0.92119565 0.91304348 0.9048913 ] \n",
            "-------------------------------\n",
            "Fitting 10 folds for each of 20 candidates, totalling 200 fits\n",
            "Best hyperparameters: {'model__var_smoothing': 0.08858667904100828} \n",
            "-------------------------------\n"
          ]
        }
      ],
      "source": [
        "numerical_columns = ['age_at_time_of_death', 'days_from_custody_to_death']\n",
        "binary_columns = ['sex', 'Medical']\n",
        "categorical_columns = [col for col in X_train.columns if col not in numerical_columns + binary_columns]\n",
        "\n",
        "preprocess_pipeline = ColumnTransformer([\n",
        "    ('numerical', StandardScaler(), numerical_columns),\n",
        "    ('categorical', OneHotEncoder(handle_unknown='ignore'), categorical_columns),\n",
        "    ('binary', OrdinalEncoder(), binary_columns)\n",
        "])\n",
        "\n",
        "model_white = GaussianNB()\n",
        "\n",
        "sfs_white = SFS(\n",
        "    estimator = model_white,\n",
        "    k_features = 'best',\n",
        "    forward = True,\n",
        "    scoring = 'accuracy',\n",
        "    cv = 3,\n",
        "    n_jobs = -1\n",
        ")\n",
        "\n",
        "pipeline = Pipeline([\n",
        "    ('preprocess', preprocess_pipeline),\n",
        "#    ('smote', SMOTE(sampling_strategy='auto')),\n",
        "    ('forward_selection', sfs_white),\n",
        "    ('model', model_white)\n",
        "])\n",
        "\n",
        "\n",
        "cv_results = cross_val_score(pipeline, X_train, y_train, cv=10, scoring = 'accuracy')\n",
        "\n",
        "print(\"CV-results:\\n\", cv_results, \"\\n-------------------------------\")\n",
        "\n",
        "cv = StratifiedKFold(n_splits=10)\n",
        "\n",
        "param_grid = [\n",
        "    {'model__var_smoothing': np.logspace(0, -10, num=20)}\n",
        "]\n",
        "\n",
        "gridsearch = GridSearchCV(pipeline, param_grid = param_grid, cv = cv, verbose=True, n_jobs=-1)\n",
        "\n",
        "gridsearch.fit(X_train, y_train)\n",
        "\n",
        "print(\"Best hyperparameters:\", gridsearch.best_params_, \"\\n-------------------------------\")\n",
        "\n",
        "best_model_white = gridsearch.best_estimator_"
      ]
    },
    {
      "cell_type": "code",
      "execution_count": null,
      "metadata": {
        "colab": {
          "base_uri": "https://localhost:8080/"
        },
        "id": "F8It2YhK2ggy",
        "outputId": "a0c1fdb5-ec7c-4962-96dd-e2ef73eb6e95"
      },
      "outputs": [
        {
          "output_type": "stream",
          "name": "stdout",
          "text": [
            "Test accuracy:  0.89587852494577\n"
          ]
        }
      ],
      "source": [
        "\n",
        "y_pred = best_model_white.predict(X_test)\n",
        "\n",
        "accuracy = accuracy_score(y_test, y_pred)\n",
        "\n",
        "print('Test accuracy: ', accuracy)\n"
      ]
    },
    {
      "cell_type": "code",
      "execution_count": null,
      "metadata": {
        "colab": {
          "base_uri": "https://localhost:8080/"
        },
        "id": "BS0rN1Km2m2_",
        "outputId": "e2ca2421-2135-4f0a-e429-47eddb237818"
      },
      "outputs": [
        {
          "output_type": "stream",
          "name": "stdout",
          "text": [
            "Confusion matrix:\n",
            " [[719  39]\n",
            " [ 57 107]]\n",
            "              precision    recall  f1-score   support\n",
            "\n",
            "     Natural       0.93      0.95      0.94       758\n",
            "   Unnatural       0.73      0.65      0.69       164\n",
            "\n",
            "    accuracy                           0.90       922\n",
            "   macro avg       0.83      0.80      0.81       922\n",
            "weighted avg       0.89      0.90      0.89       922\n",
            "\n"
          ]
        }
      ],
      "source": [
        "conf_matrix = confusion_matrix(y_test, y_pred)\n",
        "print(\"Confusion matrix:\\n\", conf_matrix)\n",
        "\n",
        "print(classification_report(y_test, y_pred))"
      ]
    },
    {
      "cell_type": "code",
      "source": [
        "preprocess_pipeline = best_model_white.named_steps['preprocess']\n",
        "one_hot = preprocess_pipeline.transformers_[1][1]\n",
        "\n",
        "#Check the categories of the one-hot encoding:\n",
        "categories_OH = one_hot.categories_\n",
        "categories_OH = [category for feature in categories_OH for category in feature]\n",
        "print(categories_OH)\n",
        "\n",
        "#Check the ordinal encoding:\n",
        "ordinal = preprocess_pipeline.transformers_[2][1]\n",
        "categories_bin = ordinal.categories_\n",
        "categories_bin = [category for feature in categories_bin for category in feature]\n",
        "\n",
        "print(categories_bin)\n",
        "\n",
        "#Check the label encoding:\n",
        "model = best_model_white.named_steps['model']\n",
        "print('Labels: ', model.classes_, \"\\n-------------------------------\")"
      ],
      "metadata": {
        "colab": {
          "base_uri": "https://localhost:8080/"
        },
        "id": "LP71YQUYkGKi",
        "outputId": "bfc561f8-6554-4b36-dda1-e0652df71a5f"
      },
      "execution_count": null,
      "outputs": [
        {
          "output_type": "stream",
          "name": "stdout",
          "text": [
            "['JAIL - COUNTY', 'JAIL - MUNICIPAL', 'PRISON', 'PRIVATE FACILITY', 'Non-violent', 'Sexual', 'Violent', 'afternoon', 'morning', 'night']\n",
            "['FEMALE', 'MALE', False, True]\n",
            "Labels:  ['Natural' 'Unnatural'] \n",
            "-------------------------------\n"
          ]
        }
      ]
    },
    {
      "cell_type": "code",
      "execution_count": null,
      "metadata": {
        "colab": {
          "base_uri": "https://localhost:8080/"
        },
        "id": "0IxImN-l2t9u",
        "outputId": "7016e19f-fe3a-4e19-fa26-e451398db026"
      },
      "outputs": [
        {
          "output_type": "stream",
          "name": "stdout",
          "text": [
            "['Age', 'PRISON', 'Violent', 'night', 'Pre-existing conditions']\n",
            "                 Cause      Age    PRISON   Violent     night  \\\n",
            "0  Unnatural - Natural -1.38783 -0.381798  0.091964 -0.103487   \n",
            "\n",
            "  Pre-existing conditions  \n",
            "0               -0.493486  \n"
          ]
        }
      ],
      "source": [
        "thetas_white = best_model_white.named_steps['model'].theta_\n",
        "\n",
        "numerical_col = ['Age', 'Days']\n",
        "categorical_col = categories_OH\n",
        "binary_col = ['Male', 'Pre-existing conditions']\n",
        "\n",
        "all_features = numerical_col + list(categorical_col) + list(binary_col)\n",
        "#print(all_features)\n",
        "\n",
        "sfs_white_steps = best_model_white.named_steps['forward_selection']\n",
        "selected_features_white = [all_features[i] for i in sfs_white_steps.k_feature_idx_]\n",
        "\n",
        "print(selected_features_white)\n",
        "\n",
        "col_names = selected_features_white\n",
        "\n",
        "thetas_df_white = pd.DataFrame(thetas_white, columns = col_names, index = ['Natural causes', 'Unnatural causes'])\n",
        "thetas_df_white = thetas_df_white.reset_index().rename(columns={'index': 'Cause'})\n",
        "\n",
        "difference_white_values = thetas_df_white.iloc[1, 1:].values - thetas_df_white.iloc[0, 1:].values\n",
        "difference_white_values = difference_white_values.reshape(1, -1)\n",
        "difference_df_white = pd.DataFrame(difference_white_values, columns = col_names, index = ['Unnatural - Natural'])\n",
        "difference_df_white = difference_df_white.reset_index().rename(columns={'index': 'Cause'})\n",
        "\n",
        "print(difference_df_white)"
      ]
    },
    {
      "cell_type": "markdown",
      "metadata": {
        "id": "55u4I17m2xed"
      },
      "source": [
        "# Black Naive Bayes (w/ forward selection)"
      ]
    },
    {
      "cell_type": "code",
      "execution_count": null,
      "metadata": {
        "id": "Pw895OqJ2138"
      },
      "outputs": [],
      "source": [
        "df_black_Y = df_black['Natural']\n",
        "df_black_X = df_black.drop(['Natural', 'manner_of_death', 'race'], axis=1)\n",
        "\n",
        "X_train, X_test, y_train, y_test = train_test_split(df_black_X, df_black_Y, test_size=0.2)"
      ]
    },
    {
      "cell_type": "code",
      "execution_count": null,
      "metadata": {
        "colab": {
          "base_uri": "https://localhost:8080/"
        },
        "id": "N4DNDxHs25lV",
        "outputId": "e6e7ef40-2c8e-46dc-c262-1d4d2cc2962f"
      },
      "outputs": [
        {
          "output_type": "stream",
          "name": "stdout",
          "text": [
            "CV-results:\n",
            " [0.904      0.888      0.904      0.884      0.88       0.9\n",
            " 0.87550201 0.87951807 0.91164659 0.89959839] \n",
            "-------------------------------\n",
            "Fitting 10 folds for each of 20 candidates, totalling 200 fits\n",
            "Best hyperparameters: {'model__var_smoothing': 0.08858667904100828} \n",
            "-------------------------------\n"
          ]
        }
      ],
      "source": [
        "numerical_columns = ['age_at_time_of_death', 'days_from_custody_to_death']\n",
        "binary_columns = ['sex', 'Medical']\n",
        "categorical_columns = [col for col in X_train.columns if col not in numerical_columns + binary_columns]\n",
        "\n",
        "preprocess_pipeline = ColumnTransformer([\n",
        "    ('numerical', StandardScaler(), numerical_columns),\n",
        "    ('categorical', OneHotEncoder(handle_unknown='ignore'), categorical_columns),\n",
        "    ('binary', OrdinalEncoder(), binary_columns)\n",
        "])\n",
        "\n",
        "model_black = GaussianNB()\n",
        "\n",
        "sfs_black = SFS(\n",
        "    estimator = model_black,\n",
        "    k_features = 'best',\n",
        "    forward = True,\n",
        "    scoring = 'accuracy',\n",
        "    cv = 3,\n",
        "    n_jobs = -1\n",
        ")\n",
        "\n",
        "pipeline = Pipeline([\n",
        "    ('preprocess', preprocess_pipeline),\n",
        "#    ('smote', SMOTE(sampling_strategy='auto')),\n",
        "    ('forward_selection', sfs_black),\n",
        "    ('model', model_black)\n",
        "])\n",
        "\n",
        "\n",
        "cv_results = cross_val_score(pipeline, X_train, y_train, cv=10, scoring = 'accuracy')\n",
        "\n",
        "print(\"CV-results:\\n\", cv_results, \"\\n-------------------------------\")\n",
        "\n",
        "cv = StratifiedKFold(n_splits=10)\n",
        "\n",
        "param_grid = [\n",
        "    {'model__var_smoothing': np.logspace(0, -10, num=20)}\n",
        "]\n",
        "\n",
        "gridsearch = GridSearchCV(pipeline, param_grid = param_grid, cv = cv, verbose=True, n_jobs=-1)\n",
        "\n",
        "gridsearch.fit(X_train, y_train)\n",
        "\n",
        "print(\"Best hyperparameters:\", gridsearch.best_params_, \"\\n-------------------------------\")\n",
        "\n",
        "best_model_black = gridsearch.best_estimator_"
      ]
    },
    {
      "cell_type": "code",
      "execution_count": null,
      "metadata": {
        "colab": {
          "base_uri": "https://localhost:8080/"
        },
        "id": "eS3169Au27IG",
        "outputId": "fc5ac1ca-62c9-4579-bc10-fa8abce14464"
      },
      "outputs": [
        {
          "output_type": "stream",
          "name": "stdout",
          "text": [
            "Test accuracy:  0.8910256410256411\n"
          ]
        }
      ],
      "source": [
        "y_pred = best_model_black.predict(X_test)\n",
        "\n",
        "accuracy = accuracy_score(y_test, y_pred)\n",
        "\n",
        "print('Test accuracy: ', accuracy)"
      ]
    },
    {
      "cell_type": "code",
      "execution_count": null,
      "metadata": {
        "colab": {
          "base_uri": "https://localhost:8080/"
        },
        "id": "u8JwLYcE3Dn2",
        "outputId": "f3ca8008-797f-4338-9935-c47ff66511c0"
      },
      "outputs": [
        {
          "output_type": "stream",
          "name": "stdout",
          "text": [
            "Confusion matrix:\n",
            " [[502  25]\n",
            " [ 43  54]]\n",
            "              precision    recall  f1-score   support\n",
            "\n",
            "     Natural       0.92      0.95      0.94       527\n",
            "   Unnatural       0.68      0.56      0.61        97\n",
            "\n",
            "    accuracy                           0.89       624\n",
            "   macro avg       0.80      0.75      0.78       624\n",
            "weighted avg       0.88      0.89      0.89       624\n",
            "\n"
          ]
        }
      ],
      "source": [
        "conf_matrix = confusion_matrix(y_test, y_pred)\n",
        "print(\"Confusion matrix:\\n\", conf_matrix)\n",
        "\n",
        "print(classification_report(y_test, y_pred))"
      ]
    },
    {
      "cell_type": "code",
      "execution_count": null,
      "metadata": {
        "colab": {
          "base_uri": "https://localhost:8080/"
        },
        "id": "z5ykIvwF3Grt",
        "outputId": "5ef95f4d-00a4-4dba-8ac4-b441f5d3e14c"
      },
      "outputs": [
        {
          "output_type": "stream",
          "name": "stdout",
          "text": [
            "['Age', 'Days', 'JAIL - MUNICIPAL', 'Sexual', 'morning', 'Pre-existing conditions']\n",
            "                 Cause       Age      Days JAIL - MUNICIPAL    Sexual  \\\n",
            "0  Unnatural - Natural -1.198857 -0.359801         0.037411 -0.107073   \n",
            "\n",
            "    morning Pre-existing conditions  \n",
            "0  0.014779               -0.459647  \n"
          ]
        }
      ],
      "source": [
        "thetas_black = best_model_black.named_steps['model'].theta_\n",
        "\n",
        "numerical_col = ['Age', 'Days']\n",
        "categorical_col = categories_OH\n",
        "binary_col = ['Male', 'Pre-existing conditions']\n",
        "\n",
        "all_features = numerical_col + list(categorical_col) + list(binary_col)\n",
        "\n",
        "sfs_black_steps = best_model_black.named_steps['forward_selection']\n",
        "selected_features_black = [all_features[i] for i in sfs_black_steps.k_feature_idx_]\n",
        "\n",
        "print(selected_features_black)\n",
        "\n",
        "\n",
        "col_names = selected_features_black\n",
        "\n",
        "thetas_df_black = pd.DataFrame(thetas_black, columns = col_names, index = ['Natural causes', 'Unnatural causes'])\n",
        "thetas_df_black = thetas_df_black.reset_index().rename(columns={'index': 'Cause'})\n",
        "\n",
        "difference_black_values = thetas_df_black.iloc[1, 1:].values - thetas_df_black.iloc[0, 1:].values\n",
        "difference_black_values = difference_black_values.reshape(1, -1)\n",
        "difference_df_black = pd.DataFrame(difference_black_values, columns = col_names, index = ['Unnatural - Natural'])\n",
        "difference_df_black = difference_df_black.reset_index().rename(columns={'index': 'Cause'})\n",
        "\n",
        "print(difference_df_black)"
      ]
    },
    {
      "cell_type": "markdown",
      "metadata": {
        "id": "uiEYNi9C3Jh8"
      },
      "source": [
        "# Hispanic Naive Bayes (w/ forward selection)"
      ]
    },
    {
      "cell_type": "code",
      "execution_count": null,
      "metadata": {
        "id": "YsA3MFjq3Mpc"
      },
      "outputs": [],
      "source": [
        "df_hispanic_Y = df_hispanic['Natural']\n",
        "df_hispanic_X = df_hispanic.drop(['Natural', 'manner_of_death', 'race'], axis=1)\n",
        "\n",
        "X_train, X_test, y_train, y_test = train_test_split(df_hispanic_X, df_hispanic_Y, test_size=0.2)"
      ]
    },
    {
      "cell_type": "code",
      "execution_count": null,
      "metadata": {
        "colab": {
          "base_uri": "https://localhost:8080/"
        },
        "id": "mhmNOZzs3OfF",
        "outputId": "afb7cf26-39f7-486c-ee96-f25484849dc7"
      },
      "outputs": [
        {
          "output_type": "stream",
          "name": "stdout",
          "text": [
            "CV-results:\n",
            " [0.90909091 0.9047619  0.84848485 0.85714286 0.9047619  0.8961039\n",
            " 0.89177489 0.85714286 0.9004329  0.85714286] \n",
            "-------------------------------\n",
            "Fitting 10 folds for each of 20 candidates, totalling 200 fits\n",
            "Best hyperparameters: {'model__var_smoothing': 0.026366508987303583} \n",
            "-------------------------------\n"
          ]
        }
      ],
      "source": [
        "numerical_columns = ['age_at_time_of_death', 'days_from_custody_to_death']\n",
        "binary_columns = ['sex', 'Medical']\n",
        "categorical_columns = [col for col in X_train.columns if col not in numerical_columns + binary_columns]\n",
        "\n",
        "preprocess_pipeline = ColumnTransformer([\n",
        "    ('numerical', StandardScaler(), numerical_columns),\n",
        "    ('categorical', OneHotEncoder(handle_unknown='ignore'), categorical_columns),\n",
        "    ('binary', OrdinalEncoder(), binary_columns)\n",
        "])\n",
        "\n",
        "model_hispanic = GaussianNB()\n",
        "\n",
        "sfs_hispanic = SFS(\n",
        "    estimator = model_hispanic,\n",
        "    k_features = 'best',\n",
        "    forward = True,\n",
        "    scoring = 'accuracy',\n",
        "    cv = 3,\n",
        "    n_jobs = -1\n",
        ")\n",
        "\n",
        "pipeline = Pipeline([\n",
        "    ('preprocess', preprocess_pipeline),\n",
        "#    ('smote', SMOTE(sampling_strategy='auto')),\n",
        "    ('forward_selection', sfs_hispanic),\n",
        "    ('model', model_hispanic)\n",
        "])\n",
        "\n",
        "\n",
        "cv_results = cross_val_score(pipeline, X_train, y_train, cv=10, scoring = 'accuracy')\n",
        "\n",
        "print(\"CV-results:\\n\", cv_results, \"\\n-------------------------------\")\n",
        "\n",
        "cv = StratifiedKFold(n_splits=10)\n",
        "\n",
        "param_grid = [\n",
        "    {'model__var_smoothing': np.logspace(0, -10, num=20)}\n",
        "]\n",
        "\n",
        "gridsearch = GridSearchCV(pipeline, param_grid = param_grid, cv = cv, verbose=True, n_jobs=-1)\n",
        "\n",
        "gridsearch.fit(X_train, y_train)\n",
        "\n",
        "print(\"Best hyperparameters:\", gridsearch.best_params_, \"\\n-------------------------------\")\n",
        "\n",
        "best_model_hispanic = gridsearch.best_estimator_"
      ]
    },
    {
      "cell_type": "code",
      "execution_count": null,
      "metadata": {
        "colab": {
          "base_uri": "https://localhost:8080/"
        },
        "id": "IZyGt3Zv3Q0p",
        "outputId": "0e1cad6a-8c32-4868-cc33-2ad21b4758c0"
      },
      "outputs": [
        {
          "output_type": "stream",
          "name": "stdout",
          "text": [
            "Test accuracy:  0.8979238754325259\n"
          ]
        }
      ],
      "source": [
        "y_pred = best_model_hispanic.predict(X_test)\n",
        "\n",
        "accuracy = accuracy_score(y_test, y_pred)\n",
        "\n",
        "print('Test accuracy: ', accuracy)"
      ]
    },
    {
      "cell_type": "code",
      "execution_count": null,
      "metadata": {
        "colab": {
          "base_uri": "https://localhost:8080/"
        },
        "id": "VBKNCf6F3XkY",
        "outputId": "1418935c-6e02-4d67-865e-d8d23d139ef0"
      },
      "outputs": [
        {
          "output_type": "stream",
          "name": "stdout",
          "text": [
            "Confusion matrix:\n",
            " [[437  30]\n",
            " [ 29  82]]\n",
            "              precision    recall  f1-score   support\n",
            "\n",
            "     Natural       0.94      0.94      0.94       467\n",
            "   Unnatural       0.73      0.74      0.74       111\n",
            "\n",
            "    accuracy                           0.90       578\n",
            "   macro avg       0.83      0.84      0.84       578\n",
            "weighted avg       0.90      0.90      0.90       578\n",
            "\n"
          ]
        }
      ],
      "source": [
        "conf_matrix = confusion_matrix(y_test, y_pred)\n",
        "print(\"Confusion matrix:\\n\", conf_matrix)\n",
        "\n",
        "print(classification_report(y_test, y_pred))"
      ]
    },
    {
      "cell_type": "code",
      "execution_count": null,
      "metadata": {
        "colab": {
          "base_uri": "https://localhost:8080/"
        },
        "id": "GkhxijkS3gjn",
        "outputId": "aa1723a0-5d13-4f63-81ab-4ef0296d1829"
      },
      "outputs": [
        {
          "output_type": "stream",
          "name": "stdout",
          "text": [
            "['Age', 'JAIL - COUNTY', 'PRISON', 'PRIVATE FACILITY', 'Non-violent', 'Sexual', 'Violent', 'afternoon', 'morning', 'night', 'Pre-existing conditions']\n",
            "                 Cause       Age JAIL - COUNTY    PRISON PRIVATE FACILITY  \\\n",
            "0  Unnatural - Natural -1.315926      0.207105 -0.311088         0.020502   \n",
            "\n",
            "  Non-violent    Sexual   Violent afternoon   morning     night  \\\n",
            "0    0.039251 -0.170802  0.131551  0.100562  0.042895 -0.143457   \n",
            "\n",
            "  Pre-existing conditions  \n",
            "0               -0.504618  \n"
          ]
        }
      ],
      "source": [
        "thetas_hispanic = best_model_hispanic.named_steps['model'].theta_\n",
        "\n",
        "numerical_col = ['Age', 'Days']\n",
        "categorical_col = categories_OH\n",
        "binary_col = ['Male', 'Pre-existing conditions']\n",
        "\n",
        "all_features = numerical_col + list(categorical_col) + list(binary_col)\n",
        "#print(all_features)\n",
        "\n",
        "sfs_hispanic_steps = best_model_hispanic.named_steps['forward_selection']\n",
        "selected_features_hispanic = [all_features[i] for i in sfs_hispanic_steps.k_feature_idx_]\n",
        "\n",
        "print(selected_features_hispanic)\n",
        "\n",
        "\n",
        "col_names = selected_features_hispanic\n",
        "\n",
        "thetas_df_hispanic = pd.DataFrame(thetas_hispanic, columns = col_names, index = ['Natural causes', 'Unnatural causes'])\n",
        "thetas_df_hispanic = thetas_df_hispanic.reset_index().rename(columns={'index': 'Cause'})\n",
        "\n",
        "difference_hispanic_values = thetas_df_hispanic.iloc[1, 1:].values - thetas_df_hispanic.iloc[0, 1:].values\n",
        "difference_hispanic_values = difference_hispanic_values.reshape(1, -1)\n",
        "difference_df_hispanic = pd.DataFrame(difference_hispanic_values, columns = col_names, index = ['Unnatural - Natural'])\n",
        "difference_df_hispanic = difference_df_hispanic.reset_index().rename(columns={'index': 'Cause'})\n",
        "\n",
        "print(difference_df_hispanic)"
      ]
    },
    {
      "cell_type": "markdown",
      "source": [
        "#Visualize centers"
      ],
      "metadata": {
        "id": "MT-kQvuvjrVF"
      }
    },
    {
      "cell_type": "code",
      "source": [
        "def visualize_centers(df_white, df_black, df_hisp):\n",
        "\n",
        "  #Melt each dataframe into a long format\n",
        "  df_white_melt = df_white.melt(id_vars = 'Cause', var_name = 'Feature', value_name='Center')\n",
        "  df_black_melt = df_black.melt(id_vars = 'Cause', var_name = 'Feature', value_name='Center')\n",
        "  df_hisp_melt = df_hisp.melt(id_vars = 'Cause', var_name = 'Feature', value_name='Center')\n",
        "\n",
        "  #Add race to long dfs\n",
        "  df_white_melt['race'] = 'White'\n",
        "  df_black_melt['race'] = 'Black'\n",
        "  df_hisp_melt['race'] = 'Hispanic'\n",
        "\n",
        "  #Combine the long dfs\n",
        "  df_vis = pd.concat([df_white_melt, df_black_melt, df_hisp_melt])\n",
        "\n",
        "  causes = df_vis['Cause'].unique()\n",
        "\n",
        "  for cause in causes:\n",
        "\n",
        "    cause_df = df_vis[df_vis['Cause']==cause]\n",
        "\n",
        "    sns.barplot(x='Feature', y='∆Center (Unnatural - Natural)', hue='race',\n",
        "              data=cause_df, ci=None, palette='muted')\n",
        "\n",
        "    plt.title(f'Death by {cause}')\n",
        "\n",
        "    plt.axhline(y=0)\n",
        "\n",
        "    plt.xticks(rotation=90)\n",
        "\n",
        "    plt.show()"
      ],
      "metadata": {
        "id": "zgXY6xySc0Qu"
      },
      "execution_count": null,
      "outputs": []
    },
    {
      "cell_type": "code",
      "execution_count": null,
      "metadata": {
        "colab": {
          "base_uri": "https://localhost:8080/",
          "height": 704
        },
        "id": "w9Hi0skYAair",
        "outputId": "7bf14e46-75d4-45eb-a451-3c90508f4acd"
      },
      "outputs": [
        {
          "output_type": "stream",
          "name": "stderr",
          "text": [
            "<ipython-input-26-2811ca10959a>:22: FutureWarning: \n",
            "\n",
            "The `ci` parameter is deprecated. Use `errorbar=None` for the same effect.\n",
            "\n",
            "  sns.barplot(x='Feature', y='Center', hue='race',\n"
          ]
        },
        {
          "output_type": "display_data",
          "data": {
            "text/plain": [
              "<Figure size 640x480 with 1 Axes>"
            ],
            "image/png": "[encoded data removed]"
          },
          "metadata": {}
        }
      ],
      "source": [
        "visualize_centers(difference_df_white, difference_df_black, difference_df_hispanic)"
      ]
    },
    {
      "cell_type": "markdown",
      "source": [
        "# General Remarks"
      ],
      "metadata": {
        "id": "toNKCADvr48J"
      }
    },
    {
      "cell_type": "markdown",
      "source": [
        "In our presentation, we discussed how logistic regression surprisingly outperformed Gaussian NB. However, after removing SMOTE (as well as using ordinal encoding instead of one-hot encoding for binary variables), we obtain a good overall performance across all races. Ordinal encoding was likely a great driving factor in this, as using one-hot encoding for binary variables introduced features that were collinear. This is detrimental to Naive Bayes, which assumes feature independence."
      ],
      "metadata": {
        "id": "egbJJNO9r8mv"
      }
    }
  ],
  "metadata": {
    "colab": {
      "provenance": [],
      "toc_visible": true
    },
    "kernelspec": {
      "display_name": "Python 3",
      "name": "python3"
    },
    "language_info": {
      "name": "python"
    }
  },
  "nbformat": 4,
  "nbformat_minor": 0
}